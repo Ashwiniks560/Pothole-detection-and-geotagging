{
 "cells": [
  {
   "cell_type": "code",
   "execution_count": 3,
   "metadata": {},
   "outputs": [],
   "source": [
    "import gmplot\n",
    "import pandas as pd \n",
    "import numpy as np\n",
    "import matplotlib.pyplot as plt\n",
    "import peakutils \n",
    "import scipy\n",
    "from __future__ import division"
   ]
  },
  {
   "cell_type": "code",
   "execution_count": 10,
   "metadata": {},
   "outputs": [],
   "source": [
    "df_File = pd.read_csv('Jan021623.csv')          #Target Variable\n",
    "time = df_File['Trip Time(Since journey start)(s)']\n",
    "Accx = df_File['Acceleration Sensor(X axis)(g)']\n",
    "Accy = df_File['Acceleration Sensor(Y axis)(g)']\n",
    "Accz = df_File['Acceleration Sensor(Z axis)(g)']\n",
    "Lat = df_File[' Latitude']\n",
    "Longi = df_File[' Longitude']\n"
   ]
  },
  {
   "cell_type": "code",
   "execution_count": null,
   "metadata": {},
   "outputs": [],
   "source": [
    "def Plot(x_direction,y_direction,z_direction,Time_parameter,x_label,y_label,plot_title):\n",
    "  \n",
    "    plt.figure()\n",
    "    plt.plot(Time_parameter,x_direction,'b')\n",
    "    plt.plot(Time_parameter,y_direction,'r')\n",
    "    plt.plot(Time_parameter,z_direction,'c')\n",
    "    plt.xlabel(x_label)\n",
    "    plt.ylabel(y_label)\n",
    "    plt.title(plot_title)\n",
    "    \n",
    "Plot(Accx,Accy,Accz,time,'Time','Acceleration','Acceleration in x y z directions')"
   ]
  },
  {
   "cell_type": "markdown",
   "metadata": {},
   "source": [
    "## Function to take the average of every 3 values consequetively "
   ]
  },
  {
   "cell_type": "code",
   "execution_count": null,
   "metadata": {},
   "outputs": [],
   "source": [
    "def average(list):\n",
    "    #list1 = [w.replace('Acceleration Sensor(Z axis)(g)', '0') for w in list] \n",
    "    list2 = [float(i) for i in list]\n",
    "    res = 0 \n",
    "    for ele in list2: \n",
    "        res += ele\n",
    "        avg= res/3\n",
    "    res = [ prod(list2[x : x + 3]) for x in range(0, len(list2), 3)]\n",
    "    return (res)\n"
   ]
  },
  {
   "cell_type": "markdown",
   "metadata": {},
   "source": [
    "## Function to pass the list through highpass filter"
   ]
  },
  {
   "cell_type": "markdown",
   "metadata": {},
   "source": [
    "Cut off frequency(fc): 0.2 for sampling rate of 1 value/second (fraction of sampling rate)\n",
    "\n",
    "Transition band (b): 0.16 for sampling rate of 1 value/second (fraction of sampling rate)"
   ]
  },
  {
   "cell_type": "code",
   "execution_count": 83,
   "metadata": {},
   "outputs": [],
   "source": [
    "def highpassfilter(Accelerometer_values):\n",
    "    fc = 0.2  \n",
    "    b = 0.16  \n",
    "    N = int(np.ceil((4 / b)))\n",
    "    if not N % 2: N += 1  # Make sure that N is odd.\n",
    "    n = np.arange(N)\n",
    " \n",
    "    #Compute a low-pass filter.\n",
    "    h = np.sinc(2 * fc * (n - (N - 1) / 2))\n",
    "    w = np.blackman(N)\n",
    "    h = h * w\n",
    "    h = h / np.sum(h)\n",
    " \n",
    "    #Create a high-pass filter from the low-pass filter through spectral inversion.\n",
    "    h = -h\n",
    "    h[(N - 1) // 2] += 1\n",
    "    s = np.convolve(Accelerometer_values, h)\n",
    "    np.set_printoptions(suppress=False)\n",
    "    s1=s.astype(float) #amplifying the output by 10 times for further computation\n",
    "    return s1\n",
    "\n",
    "accy = highpassfilter(Accy)\n",
    "accx = highpassfilter(Accx)"
   ]
  },
  {
   "cell_type": "markdown",
   "metadata": {},
   "source": [
    "## Function to pass the list through a threshold"
   ]
  },
  {
   "cell_type": "code",
   "execution_count": 84,
   "metadata": {},
   "outputs": [
    {
     "name": "stdout",
     "output_type": "stream",
     "text": [
      "0.5232232001965982\n",
      "-0.4332521479898295\n",
      "0.4743616823522766\n",
      "-0.8117229361741394\n"
     ]
    }
   ],
   "source": [
    "print(max(accy))\n",
    "print(min(accy)) \n",
    "print(max(accx))\n",
    "print(min(accx))"
   ]
  },
  {
   "cell_type": "markdown",
   "metadata": {},
   "source": [
    "Assumptions: Any value less than -0.2 (Confirmed pothole)\n",
    "               \n",
    "Values (-0.2<x<-0.1) (Possible pothole)"
   ]
  },
  {
   "cell_type": "code",
   "execution_count": 90,
   "metadata": {},
   "outputs": [
    {
     "data": {
      "text/plain": [
       "(array([-0.24487613, -0.3575369 , -0.43325215, -0.34919881]),\n",
       " array([-0.18257966, -0.1171724 , -0.18231727, -0.10082313, -0.11801906,\n",
       "        -0.18542902, -0.18228244, -0.11702894, -0.10007617, -0.19352129,\n",
       "        -0.12265666, -0.11830497, -0.14070854, -0.16148422, -0.18583374,\n",
       "        -0.10045066, -0.17584293, -0.11395598, -0.10653603, -0.19073978]),\n",
       " (array([ 34,  38,  42, 421], dtype=int64),))"
      ]
     },
     "execution_count": 90,
     "metadata": {},
     "output_type": "execute_result"
    }
   ],
   "source": [
    "def threshold(list):\n",
    "    values = np.array(list)\n",
    "    confirmed_potholes = values[values<-0.2]\n",
    "    indexvalues_confirmed = np.nonzero(accy <-0.2)\n",
    "    rest = np.array(list[list>-0.2])\n",
    "    possible_potholes = rest[rest<-0.1]\n",
    "    return confirmed_potholes,possible_potholes,indexvalues_confirmed\n",
    "    \n",
    "threshold(accy)"
   ]
  },
  {
   "cell_type": "markdown",
   "metadata": {},
   "source": [
    "The number of confirmed potholes from the above function is 4, and the values are printed. The values of possible potholes are also printed. \n",
    "\n",
    "The last array indicates the index of the detected potholes from the list obtained from the high-pass filter function."
   ]
  },
  {
   "cell_type": "markdown",
   "metadata": {},
   "source": [
    "## Function to plot the coordinates on the map"
   ]
  },
  {
   "cell_type": "code",
   "execution_count": null,
   "metadata": {},
   "outputs": [],
   "source": [
    "def PlotMap(latitude,Longitude):\n",
    "    gmap = gmplot.GoogleMapPlotter(12.9716,77.5946,13)\n",
    "    gmap.scatter(Latitude, Longitude,  \n",
    "           'yellow',size = 40, marker = False) \n",
    "    gmap.draw(\"Potholes.html\")"
   ]
  },
  {
   "cell_type": "code",
   "execution_count": null,
   "metadata": {},
   "outputs": [],
   "source": []
  }
 ],
 "metadata": {
  "kernelspec": {
   "display_name": "Python 3",
   "language": "python",
   "name": "python3"
  },
  "language_info": {
   "codemirror_mode": {
    "name": "ipython",
    "version": 3
   },
   "file_extension": ".py",
   "mimetype": "text/x-python",
   "name": "python",
   "nbconvert_exporter": "python",
   "pygments_lexer": "ipython3",
   "version": "3.6.5"
  }
 },
 "nbformat": 4,
 "nbformat_minor": 2
}
